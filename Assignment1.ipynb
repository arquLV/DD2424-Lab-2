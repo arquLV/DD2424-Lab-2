{
 "cells": [
  {
   "cell_type": "code",
   "execution_count": 212,
   "metadata": {},
   "outputs": [],
   "source": [
    "import numpy as np\n",
    "import matplotlib.pyplot as plt\n",
    "import pickle"
   ]
  },
  {
   "cell_type": "code",
   "execution_count": 205,
   "metadata": {},
   "outputs": [],
   "source": [
    "def load_batch(filename):\n",
    "    with open(filename, 'rb') as f:\n",
    "        dataset = pickle.load(f, encoding='latin1') # Nxd(3072) (Nx (32x32x3))\n",
    "        X = np.transpose(dataset['data'] / 255.) # d x N\n",
    "        y = np.array(dataset['labels'])\n",
    "        Y = np.transpose(np.eye(X.shape[1], np.max(y) + 1)[y]) # K x N\n",
    "        return X, Y, y"
   ]
  },
  {
   "cell_type": "code",
   "execution_count": 206,
   "metadata": {},
   "outputs": [],
   "source": [
    "def softmax(s):\n",
    "    exponent = np.exp(s)\n",
    "    return np.divide(exponent, np.sum(exponent, axis=0))\n",
    "\n",
    "def evaluate_classifier(X, W, b):\n",
    "    bn = np.dot(b, np.ones([1,X.shape[1]]))\n",
    "    return softmax(np.dot(W, X) + bn)"
   ]
  },
  {
   "cell_type": "code",
   "execution_count": 232,
   "metadata": {},
   "outputs": [],
   "source": [
    "def compute_cost(X, Y, W, b, lmb):\n",
    "    p = evaluate_classifier(X, W, b)\n",
    "    n = np.dot(Y.T, p)\n",
    "    cross_entropy = np.sum(-np.log(np.diag(n)))\n",
    "    \n",
    "    w_square_sum = 0\n",
    "    if lmb > 0:\n",
    "        w_square_sum = np.sum(np.diag(np.dot(W.T, W)))\n",
    "    return (cross_entropy / X.shape[1]) + (lmb * w_square_sum)\n",
    "\n",
    "def compute_gradients(X, Y, p, W, lmb):\n",
    "    G = -(Y - p)\n",
    "    grad_lossW = np.divide(np.dot(G, X.T), X.shape[1])\n",
    "    grad_W = grad_lossW + (2 * lmb * W)\n",
    "    grad_b = np.divide(np.dot(G, np.ones((X.shape[1], 1))), X.shape[1])\n",
    "    return grad_W, grad_b\n",
    "    \n",
    "def compute_gradients_num(X, Y, W, b, lmb, h):\n",
    "    no = W.shape[0]\n",
    "    d = X.shape[0]\n",
    "    \n",
    "    grad_W = np.zeros(W.shape)\n",
    "    grad_b = np.zeros(no)\n",
    "    c = compute_cost(X, Y, W, b, lmb)\n",
    "    \n",
    "    for i in range(len(b)):\n",
    "        b_try = np.copy(b)\n",
    "        b_try[i] = b_try[i] + h\n",
    "        c2 = compute_cost(X, Y, W, b_try, lmb)\n",
    "        grad_b[i] = (c2 - c) / h\n",
    "    \n",
    "    for i in range(W.shape[0]):\n",
    "        for j in range(W.shape[1]):\n",
    "            W_try = np.copy(W)\n",
    "            W_try[i,j] = W_try[i,j] + h\n",
    "            c2 = compute_cost(X, Y, W_try, b, lmb)\n",
    "            grad_W[i,j] = (c2 - c) / h\n",
    "        \n",
    "    return grad_W, grad_b"
   ]
  },
  {
   "cell_type": "code",
   "execution_count": 211,
   "metadata": {},
   "outputs": [],
   "source": [
    "def compute_accuracy(X, y, W, b):\n",
    "    p = evaluate_classifier(X, W, b)\n",
    "    argmax = np.argmax(p, axis=0) # max element index of each column\n",
    "    diff = argmax - y\n",
    "    return (diff == 0).sum() / X.shape[1]"
   ]
  },
  {
   "cell_type": "code",
   "execution_count": 209,
   "metadata": {},
   "outputs": [],
   "source": [
    "def mini_batch_GD(X, Y, GDparams, W, b, lmb, validation):\n",
    "    print(GDparams)\n",
    "    J_training = np.zeros(GDparams[\"epochs\"])\n",
    "    J_validation = np.zeros(GDparams[\"epochs\"])\n",
    "    \n",
    "    runs_in_epoch = int(X.shape[1] / GDparams[\"n_batch\"])\n",
    "    for epoch in range(GDparams[\"epochs\"]):\n",
    "        for j in range(1, runs_in_epoch):\n",
    "            j_start = (j - 1) * GDparams[\"n_batch\"]\n",
    "            j_end = j * GDparams[\"n_batch\"]\n",
    "            \n",
    "            X_batch = X[:, j_start:j_end]\n",
    "            Y_batch = Y[:, j_start:j_end]\n",
    "            \n",
    "            p = evaluate_classifier(X_batch, W, b)\n",
    "            grad_W, grad_b = compute_gradients(X_batch, Y_batch, p, W, lmb)\n",
    "            \n",
    "            W = W - (GDparams[\"eta\"] * grad_W)\n",
    "            b = b - (GDparams[\"eta\"] * grad_b)\n",
    "        \n",
    "        J_training[epoch] = compute_cost(X, Y, W, b, lmb)\n",
    "        J_validation[epoch] = compute_cost(validation[\"X\"], validation[\"Y\"], W, b, lmb)\n",
    "        print(J_training[epoch])\n",
    "    return W, b"
   ]
  },
  {
   "cell_type": "code",
   "execution_count": 234,
   "metadata": {
    "scrolled": true
   },
   "outputs": [],
   "source": [
    "np.random.seed(0)\n",
    "\n",
    "X, Y, y = load_batch('data/data_batch_1')\n",
    "X_valid, Y_valid, y_valid = load_batch('data/data_batch_2')\n",
    "X_test, Y_test, y_test = load_batch('data/test_batch')\n",
    "\n",
    "d = X.shape[0]\n",
    "N = X.shape[1]\n",
    "K = Y.shape[0]\n",
    "\n",
    "std_dev = 1 / np.sqrt(d)\n",
    "W = std_dev * np.random.randn(K, d)\n",
    "b = std_dev * np.random.randn(K, 1)\n",
    "\n",
    "lmb = 0.1  # lambda\n",
    "GDparams = {\n",
    "    \"n_batch\": 100,\n",
    "    \"eta\": .01,\n",
    "    \"epochs\": 40,\n",
    "}\n",
    "validation = {\n",
    "    \"X\": X_valid,\n",
    "    \"Y\": Y_valid,\n",
    "}"
   ]
  },
  {
   "cell_type": "code",
   "execution_count": 233,
   "metadata": {},
   "outputs": [
    {
     "name": "stdout",
     "output_type": "stream",
     "text": [
      "\n",
      "grad b:\n",
      "[[ 0.10862683]\n",
      " [ 0.10352576]\n",
      " [ 0.10291581]\n",
      " [ 0.09188528]\n",
      " [ 0.09759392]\n",
      " [ 0.10078407]\n",
      " [-0.89749406]\n",
      " [ 0.09730564]\n",
      " [ 0.09485048]\n",
      " [ 0.10000626]]\n",
      "[ 0.10862688  0.1035258   0.10291586  0.09188533  0.09759397  0.10078411\n",
      " -0.89749401  0.09730568  0.09485053  0.10000631]\n"
     ]
    }
   ],
   "source": [
    "feature_dims = 20\n",
    "samples = 1\n",
    "\n",
    "W_g = W[:,0:feature_dims] #K X d\n",
    "X_g = X[0:feature_dims, 0:samples] #d X N\n",
    "Y_g = Y[:, 0:samples] #K x N\n",
    "\n",
    "grad_W, grad_b = compute_gradients(X_g, Y_g, p, W_g, lmb)\n",
    "ngrad_w, ngrad_b = compute_gradients_num(X_g, Y_g, W_g, b, lmb, 1e-6)\n",
    "print(\"\\ngrad b:\")\n",
    "print(grad_b)\n",
    "print(ngrad_b)"
   ]
  },
  {
   "cell_type": "code",
   "execution_count": 223,
   "metadata": {},
   "outputs": [
    {
     "name": "stdout",
     "output_type": "stream",
     "text": [
      "{'n_batch': 100, 'eta': 0.01, 'epochs': 40}\n",
      "2.722545228525637\n",
      "2.4575442485245733\n",
      "2.294393535213346\n",
      "2.188864668819199\n",
      "2.1193823206269236\n",
      "2.0732491813279283\n",
      "2.0424745706649747\n",
      "2.0218798292542424\n",
      "2.008060777713339\n",
      "1.998762968155579\n",
      "1.9924870305526654\n",
      "1.9882331732708471\n",
      "1.98533358390954\n",
      "1.9833416651008011\n",
      "1.9819584989520322\n",
      "1.9809838840325933\n",
      "1.9802836685853613\n",
      "1.979767925115985\n",
      "1.9793763530666015\n",
      "1.9790685080665487\n",
      "1.9788172578772019\n",
      "1.9786043973641487\n",
      "1.9784177090881505\n",
      "1.9782489923543511\n",
      "1.9780927413310347\n",
      "1.9779452583268693\n",
      "1.9778040588915864\n",
      "1.9776674726593824\n",
      "1.9775343755103554\n",
      "1.9774040098408803\n"
     ]
    },
    {
     "ename": "KeyboardInterrupt",
     "evalue": "",
     "output_type": "error",
     "traceback": [
      "\u001b[0;31m---------------------------------------------------------------------------\u001b[0m",
      "\u001b[0;31mKeyboardInterrupt\u001b[0m                         Traceback (most recent call last)",
      "\u001b[0;32m<ipython-input-223-ecaf40367ec5>\u001b[0m in \u001b[0;36m<module>\u001b[0;34m\u001b[0m\n\u001b[0;32m----> 1\u001b[0;31m \u001b[0mW_star\u001b[0m\u001b[0;34m,\u001b[0m \u001b[0mb_star\u001b[0m \u001b[0;34m=\u001b[0m \u001b[0mmini_batch_GD\u001b[0m\u001b[0;34m(\u001b[0m\u001b[0mX\u001b[0m\u001b[0;34m,\u001b[0m \u001b[0mY\u001b[0m\u001b[0;34m,\u001b[0m \u001b[0mGDparams\u001b[0m\u001b[0;34m,\u001b[0m \u001b[0mW\u001b[0m\u001b[0;34m,\u001b[0m \u001b[0mb\u001b[0m\u001b[0;34m,\u001b[0m \u001b[0mlmb\u001b[0m\u001b[0;34m,\u001b[0m \u001b[0mvalidation\u001b[0m\u001b[0;34m)\u001b[0m\u001b[0;34m\u001b[0m\u001b[0;34m\u001b[0m\u001b[0m\n\u001b[0m\u001b[1;32m      2\u001b[0m \u001b[0mtest_cost\u001b[0m \u001b[0;34m=\u001b[0m \u001b[0mcompute_cost\u001b[0m\u001b[0;34m(\u001b[0m\u001b[0mX_test\u001b[0m\u001b[0;34m,\u001b[0m \u001b[0mY_test\u001b[0m\u001b[0;34m,\u001b[0m \u001b[0mW_star\u001b[0m\u001b[0;34m,\u001b[0m \u001b[0mb_star\u001b[0m\u001b[0;34m,\u001b[0m \u001b[0mlmb\u001b[0m\u001b[0;34m)\u001b[0m\u001b[0;34m\u001b[0m\u001b[0;34m\u001b[0m\u001b[0m\n\u001b[1;32m      3\u001b[0m \u001b[0mtest_acc\u001b[0m \u001b[0;34m=\u001b[0m \u001b[0mcompute_accuracy\u001b[0m\u001b[0;34m(\u001b[0m\u001b[0mX_test\u001b[0m\u001b[0;34m,\u001b[0m \u001b[0my_test\u001b[0m\u001b[0;34m,\u001b[0m \u001b[0mW_star\u001b[0m\u001b[0;34m,\u001b[0m \u001b[0mb_star\u001b[0m\u001b[0;34m)\u001b[0m\u001b[0;34m\u001b[0m\u001b[0;34m\u001b[0m\u001b[0m\n\u001b[1;32m      4\u001b[0m \u001b[0;34m\u001b[0m\u001b[0m\n\u001b[1;32m      5\u001b[0m \u001b[0mprint\u001b[0m\u001b[0;34m(\u001b[0m\u001b[0;34m\"\\nTest cost: {}\"\u001b[0m\u001b[0;34m.\u001b[0m\u001b[0mformat\u001b[0m\u001b[0;34m(\u001b[0m\u001b[0mtest_cost\u001b[0m\u001b[0;34m)\u001b[0m\u001b[0;34m)\u001b[0m\u001b[0;34m\u001b[0m\u001b[0;34m\u001b[0m\u001b[0m\n",
      "\u001b[0;32m<ipython-input-209-76bac9e2f94a>\u001b[0m in \u001b[0;36mmini_batch_GD\u001b[0;34m(X, Y, GDparams, W, b, lmb, validation)\u001b[0m\n\u001b[1;32m     20\u001b[0m \u001b[0;34m\u001b[0m\u001b[0m\n\u001b[1;32m     21\u001b[0m         \u001b[0mJ_training\u001b[0m\u001b[0;34m[\u001b[0m\u001b[0mepoch\u001b[0m\u001b[0;34m]\u001b[0m \u001b[0;34m=\u001b[0m \u001b[0mcompute_cost\u001b[0m\u001b[0;34m(\u001b[0m\u001b[0mX\u001b[0m\u001b[0;34m,\u001b[0m \u001b[0mY\u001b[0m\u001b[0;34m,\u001b[0m \u001b[0mW\u001b[0m\u001b[0;34m,\u001b[0m \u001b[0mb\u001b[0m\u001b[0;34m,\u001b[0m \u001b[0mlmb\u001b[0m\u001b[0;34m)\u001b[0m\u001b[0;34m\u001b[0m\u001b[0;34m\u001b[0m\u001b[0m\n\u001b[0;32m---> 22\u001b[0;31m         \u001b[0mJ_validation\u001b[0m\u001b[0;34m[\u001b[0m\u001b[0mepoch\u001b[0m\u001b[0;34m]\u001b[0m \u001b[0;34m=\u001b[0m \u001b[0mcompute_cost\u001b[0m\u001b[0;34m(\u001b[0m\u001b[0mvalidation\u001b[0m\u001b[0;34m[\u001b[0m\u001b[0;34m\"X\"\u001b[0m\u001b[0;34m]\u001b[0m\u001b[0;34m,\u001b[0m \u001b[0mvalidation\u001b[0m\u001b[0;34m[\u001b[0m\u001b[0;34m\"Y\"\u001b[0m\u001b[0;34m]\u001b[0m\u001b[0;34m,\u001b[0m \u001b[0mW\u001b[0m\u001b[0;34m,\u001b[0m \u001b[0mb\u001b[0m\u001b[0;34m,\u001b[0m \u001b[0mlmb\u001b[0m\u001b[0;34m)\u001b[0m\u001b[0;34m\u001b[0m\u001b[0;34m\u001b[0m\u001b[0m\n\u001b[0m\u001b[1;32m     23\u001b[0m         \u001b[0mprint\u001b[0m\u001b[0;34m(\u001b[0m\u001b[0mJ_training\u001b[0m\u001b[0;34m[\u001b[0m\u001b[0mepoch\u001b[0m\u001b[0;34m]\u001b[0m\u001b[0;34m)\u001b[0m\u001b[0;34m\u001b[0m\u001b[0;34m\u001b[0m\u001b[0m\n\u001b[1;32m     24\u001b[0m     \u001b[0;32mreturn\u001b[0m \u001b[0mW\u001b[0m\u001b[0;34m,\u001b[0m \u001b[0mb\u001b[0m\u001b[0;34m\u001b[0m\u001b[0;34m\u001b[0m\u001b[0m\n",
      "\u001b[0;32m<ipython-input-207-ee10418aa6a8>\u001b[0m in \u001b[0;36mcompute_cost\u001b[0;34m(X, Y, W, b, lmb)\u001b[0m\n\u001b[1;32m      1\u001b[0m \u001b[0;32mdef\u001b[0m \u001b[0mcompute_cost\u001b[0m\u001b[0;34m(\u001b[0m\u001b[0mX\u001b[0m\u001b[0;34m,\u001b[0m \u001b[0mY\u001b[0m\u001b[0;34m,\u001b[0m \u001b[0mW\u001b[0m\u001b[0;34m,\u001b[0m \u001b[0mb\u001b[0m\u001b[0;34m,\u001b[0m \u001b[0mlmb\u001b[0m\u001b[0;34m)\u001b[0m\u001b[0;34m:\u001b[0m\u001b[0;34m\u001b[0m\u001b[0;34m\u001b[0m\u001b[0m\n\u001b[1;32m      2\u001b[0m     \u001b[0mp\u001b[0m \u001b[0;34m=\u001b[0m \u001b[0mevaluate_classifier\u001b[0m\u001b[0;34m(\u001b[0m\u001b[0mX\u001b[0m\u001b[0;34m,\u001b[0m \u001b[0mW\u001b[0m\u001b[0;34m,\u001b[0m \u001b[0mb\u001b[0m\u001b[0;34m)\u001b[0m\u001b[0;34m\u001b[0m\u001b[0;34m\u001b[0m\u001b[0m\n\u001b[0;32m----> 3\u001b[0;31m     \u001b[0mn\u001b[0m \u001b[0;34m=\u001b[0m \u001b[0mnp\u001b[0m\u001b[0;34m.\u001b[0m\u001b[0mdot\u001b[0m\u001b[0;34m(\u001b[0m\u001b[0mY\u001b[0m\u001b[0;34m.\u001b[0m\u001b[0mT\u001b[0m\u001b[0;34m,\u001b[0m \u001b[0mp\u001b[0m\u001b[0;34m)\u001b[0m\u001b[0;34m\u001b[0m\u001b[0;34m\u001b[0m\u001b[0m\n\u001b[0m\u001b[1;32m      4\u001b[0m     \u001b[0mcross_entropy\u001b[0m \u001b[0;34m=\u001b[0m \u001b[0mnp\u001b[0m\u001b[0;34m.\u001b[0m\u001b[0msum\u001b[0m\u001b[0;34m(\u001b[0m\u001b[0;34m-\u001b[0m\u001b[0mnp\u001b[0m\u001b[0;34m.\u001b[0m\u001b[0mlog\u001b[0m\u001b[0;34m(\u001b[0m\u001b[0mnp\u001b[0m\u001b[0;34m.\u001b[0m\u001b[0mdiag\u001b[0m\u001b[0;34m(\u001b[0m\u001b[0mn\u001b[0m\u001b[0;34m)\u001b[0m\u001b[0;34m)\u001b[0m\u001b[0;34m)\u001b[0m\u001b[0;34m\u001b[0m\u001b[0;34m\u001b[0m\u001b[0m\n\u001b[1;32m      5\u001b[0m \u001b[0;34m\u001b[0m\u001b[0m\n",
      "\u001b[0;31mKeyboardInterrupt\u001b[0m: "
     ]
    }
   ],
   "source": [
    "W_star, b_star = mini_batch_GD(X, Y, GDparams, W, b, lmb, validation)\n",
    "test_cost = compute_cost(X_test, Y_test, W_star, b_star, lmb)\n",
    "test_acc = compute_accuracy(X_test, y_test, W_star, b_star)\n",
    "\n",
    "print(\"\\nTest cost: {}\".format(test_cost))\n",
    "print(\"Test accuracy: {}\".format(test_acc))"
   ]
  },
  {
   "cell_type": "code",
   "execution_count": null,
   "metadata": {},
   "outputs": [],
   "source": []
  },
  {
   "cell_type": "code",
   "execution_count": 222,
   "metadata": {},
   "outputs": [
    {
     "data": {
      "image/png": "[encoded data removed]",
      "text/plain": [
       "<Figure size 432x288 with 10 Axes>"
      ]
     },
     "metadata": {
      "needs_background": "light"
     },
     "output_type": "display_data"
    }
   ],
   "source": [
    "plt.figure(1)\n",
    "for i, j in enumerate(W_star):\n",
    "    plt.subplot(2, 5, i+1)\n",
    "    plt.imshow(np.rot90(np.reshape((j - j.min()) / (j.max() - j.min()), (32, 32, 3), order='F'), k=3))\n",
    "    plt.axis(\"off\")\n",
    "plt.show()"
   ]
  },
  {
   "cell_type": "code",
   "execution_count": null,
   "metadata": {},
   "outputs": [],
   "source": []
  }
 ],
 "metadata": {
  "kernelspec": {
   "display_name": "Python 3",
   "language": "python",
   "name": "python3"
  },
  "language_info": {
   "codemirror_mode": {
    "name": "ipython",
    "version": 3
   },
   "file_extension": ".py",
   "mimetype": "text/x-python",
   "name": "python",
   "nbconvert_exporter": "python",
   "pygments_lexer": "ipython3",
   "version": "3.7.2"
  }
 },
 "nbformat": 4,
 "nbformat_minor": 2
}
